{
  "nbformat": 4,
  "nbformat_minor": 0,
  "metadata": {
    "colab": {
      "provenance": [],
      "authorship_tag": "ABX9TyPxJ/IE9UKlEVGT1YF+kTTi",
      "include_colab_link": true
    },
    "kernelspec": {
      "name": "python3",
      "display_name": "Python 3"
    },
    "language_info": {
      "name": "python"
    }
  },
  "cells": [
    {
      "cell_type": "markdown",
      "metadata": {
        "id": "view-in-github",
        "colab_type": "text"
      },
      "source": [
        "<a href=\"https://colab.research.google.com/github/anjali-mi/practices_file/blob/main/python16.ipynb\" target=\"_parent\"><img src=\"https://colab.research.google.com/assets/colab-badge.svg\" alt=\"Open In Colab\"/></a>"
      ]
    },
    {
      "cell_type": "markdown",
      "source": [
        "Linear Regression Stochastic Gradient Descent Assignment\n"
      ],
      "metadata": {
        "id": "qBroF8kGxw_r"
      }
    },
    {
      "cell_type": "code",
      "source": [
        "import numpy as np\n",
        "import pandas as pd\n",
        "from sklearn.model_selection  import train_test_split\n",
        "from matplotlib.animation import FuncAnimation\n",
        "import  matplotlib.pyplot as plt\n",
        "import random\n",
        "from sklearn.preprocessing import StandardScaler"
      ],
      "metadata": {
        "id": "cwKbByIJx0mA"
      },
      "execution_count": null,
      "outputs": []
    },
    {
      "cell_type": "markdown",
      "source": [
        "import data"
      ],
      "metadata": {
        "id": "jw_Gq3UqyeHX"
      }
    },
    {
      "cell_type": "code",
      "source": [
        "np.random.seed(0)\n",
        "df = pd.read_csv('/content/Salary.csv')\n",
        "df.head()"
      ],
      "metadata": {
        "colab": {
          "base_uri": "https://localhost:8080/",
          "height": 206
        },
        "id": "uftjRYF7yhT0",
        "outputId": "8f5684b7-8e9e-44a8-c920-6d0ac8fb8649"
      },
      "execution_count": null,
      "outputs": [
        {
          "output_type": "execute_result",
          "data": {
            "text/plain": [
              "   YearsExperience   Salary\n",
              "0              1.1  39343.0\n",
              "1              1.3  46205.0\n",
              "2              1.5  37731.0\n",
              "3              2.0  43525.0\n",
              "4              2.2  39891.0"
            ],
            "text/html": [
              "\n",
              "  <div id=\"df-68fb1eb5-e85f-47dd-9d50-98182782bfac\" class=\"colab-df-container\">\n",
              "    <div>\n",
              "<style scoped>\n",
              "    .dataframe tbody tr th:only-of-type {\n",
              "        vertical-align: middle;\n",
              "    }\n",
              "\n",
              "    .dataframe tbody tr th {\n",
              "        vertical-align: top;\n",
              "    }\n",
              "\n",
              "    .dataframe thead th {\n",
              "        text-align: right;\n",
              "    }\n",
              "</style>\n",
              "<table border=\"1\" class=\"dataframe\">\n",
              "  <thead>\n",
              "    <tr style=\"text-align: right;\">\n",
              "      <th></th>\n",
              "      <th>YearsExperience</th>\n",
              "      <th>Salary</th>\n",
              "    </tr>\n",
              "  </thead>\n",
              "  <tbody>\n",
              "    <tr>\n",
              "      <th>0</th>\n",
              "      <td>1.1</td>\n",
              "      <td>39343.0</td>\n",
              "    </tr>\n",
              "    <tr>\n",
              "      <th>1</th>\n",
              "      <td>1.3</td>\n",
              "      <td>46205.0</td>\n",
              "    </tr>\n",
              "    <tr>\n",
              "      <th>2</th>\n",
              "      <td>1.5</td>\n",
              "      <td>37731.0</td>\n",
              "    </tr>\n",
              "    <tr>\n",
              "      <th>3</th>\n",
              "      <td>2.0</td>\n",
              "      <td>43525.0</td>\n",
              "    </tr>\n",
              "    <tr>\n",
              "      <th>4</th>\n",
              "      <td>2.2</td>\n",
              "      <td>39891.0</td>\n",
              "    </tr>\n",
              "  </tbody>\n",
              "</table>\n",
              "</div>\n",
              "    <div class=\"colab-df-buttons\">\n",
              "\n",
              "  <div class=\"colab-df-container\">\n",
              "    <button class=\"colab-df-convert\" onclick=\"convertToInteractive('df-68fb1eb5-e85f-47dd-9d50-98182782bfac')\"\n",
              "            title=\"Convert this dataframe to an interactive table.\"\n",
              "            style=\"display:none;\">\n",
              "\n",
              "  <svg xmlns=\"http://www.w3.org/2000/svg\" height=\"24px\" viewBox=\"0 -960 960 960\">\n",
              "    <path d=\"M120-120v-720h720v720H120Zm60-500h600v-160H180v160Zm220 220h160v-160H400v160Zm0 220h160v-160H400v160ZM180-400h160v-160H180v160Zm440 0h160v-160H620v160ZM180-180h160v-160H180v160Zm440 0h160v-160H620v160Z\"/>\n",
              "  </svg>\n",
              "    </button>\n",
              "\n",
              "  <style>\n",
              "    .colab-df-container {\n",
              "      display:flex;\n",
              "      gap: 12px;\n",
              "    }\n",
              "\n",
              "    .colab-df-convert {\n",
              "      background-color: #E8F0FE;\n",
              "      border: none;\n",
              "      border-radius: 50%;\n",
              "      cursor: pointer;\n",
              "      display: none;\n",
              "      fill: #1967D2;\n",
              "      height: 32px;\n",
              "      padding: 0 0 0 0;\n",
              "      width: 32px;\n",
              "    }\n",
              "\n",
              "    .colab-df-convert:hover {\n",
              "      background-color: #E2EBFA;\n",
              "      box-shadow: 0px 1px 2px rgba(60, 64, 67, 0.3), 0px 1px 3px 1px rgba(60, 64, 67, 0.15);\n",
              "      fill: #174EA6;\n",
              "    }\n",
              "\n",
              "    .colab-df-buttons div {\n",
              "      margin-bottom: 4px;\n",
              "    }\n",
              "\n",
              "    [theme=dark] .colab-df-convert {\n",
              "      background-color: #3B4455;\n",
              "      fill: #D2E3FC;\n",
              "    }\n",
              "\n",
              "    [theme=dark] .colab-df-convert:hover {\n",
              "      background-color: #434B5C;\n",
              "      box-shadow: 0px 1px 3px 1px rgba(0, 0, 0, 0.15);\n",
              "      filter: drop-shadow(0px 1px 2px rgba(0, 0, 0, 0.3));\n",
              "      fill: #FFFFFF;\n",
              "    }\n",
              "  </style>\n",
              "\n",
              "    <script>\n",
              "      const buttonEl =\n",
              "        document.querySelector('#df-68fb1eb5-e85f-47dd-9d50-98182782bfac button.colab-df-convert');\n",
              "      buttonEl.style.display =\n",
              "        google.colab.kernel.accessAllowed ? 'block' : 'none';\n",
              "\n",
              "      async function convertToInteractive(key) {\n",
              "        const element = document.querySelector('#df-68fb1eb5-e85f-47dd-9d50-98182782bfac');\n",
              "        const dataTable =\n",
              "          await google.colab.kernel.invokeFunction('convertToInteractive',\n",
              "                                                    [key], {});\n",
              "        if (!dataTable) return;\n",
              "\n",
              "        const docLinkHtml = 'Like what you see? Visit the ' +\n",
              "          '<a target=\"_blank\" href=https://colab.research.google.com/notebooks/data_table.ipynb>data table notebook</a>'\n",
              "          + ' to learn more about interactive tables.';\n",
              "        element.innerHTML = '';\n",
              "        dataTable['output_type'] = 'display_data';\n",
              "        await google.colab.output.renderOutput(dataTable, element);\n",
              "        const docLink = document.createElement('div');\n",
              "        docLink.innerHTML = docLinkHtml;\n",
              "        element.appendChild(docLink);\n",
              "      }\n",
              "    </script>\n",
              "  </div>\n",
              "\n",
              "\n",
              "<div id=\"df-74d920ce-1c38-44cc-a05d-bc751aa50374\">\n",
              "  <button class=\"colab-df-quickchart\" onclick=\"quickchart('df-74d920ce-1c38-44cc-a05d-bc751aa50374')\"\n",
              "            title=\"Suggest charts\"\n",
              "            style=\"display:none;\">\n",
              "\n",
              "<svg xmlns=\"http://www.w3.org/2000/svg\" height=\"24px\"viewBox=\"0 0 24 24\"\n",
              "     width=\"24px\">\n",
              "    <g>\n",
              "        <path d=\"M19 3H5c-1.1 0-2 .9-2 2v14c0 1.1.9 2 2 2h14c1.1 0 2-.9 2-2V5c0-1.1-.9-2-2-2zM9 17H7v-7h2v7zm4 0h-2V7h2v10zm4 0h-2v-4h2v4z\"/>\n",
              "    </g>\n",
              "</svg>\n",
              "  </button>\n",
              "\n",
              "<style>\n",
              "  .colab-df-quickchart {\n",
              "      --bg-color: #E8F0FE;\n",
              "      --fill-color: #1967D2;\n",
              "      --hover-bg-color: #E2EBFA;\n",
              "      --hover-fill-color: #174EA6;\n",
              "      --disabled-fill-color: #AAA;\n",
              "      --disabled-bg-color: #DDD;\n",
              "  }\n",
              "\n",
              "  [theme=dark] .colab-df-quickchart {\n",
              "      --bg-color: #3B4455;\n",
              "      --fill-color: #D2E3FC;\n",
              "      --hover-bg-color: #434B5C;\n",
              "      --hover-fill-color: #FFFFFF;\n",
              "      --disabled-bg-color: #3B4455;\n",
              "      --disabled-fill-color: #666;\n",
              "  }\n",
              "\n",
              "  .colab-df-quickchart {\n",
              "    background-color: var(--bg-color);\n",
              "    border: none;\n",
              "    border-radius: 50%;\n",
              "    cursor: pointer;\n",
              "    display: none;\n",
              "    fill: var(--fill-color);\n",
              "    height: 32px;\n",
              "    padding: 0;\n",
              "    width: 32px;\n",
              "  }\n",
              "\n",
              "  .colab-df-quickchart:hover {\n",
              "    background-color: var(--hover-bg-color);\n",
              "    box-shadow: 0 1px 2px rgba(60, 64, 67, 0.3), 0 1px 3px 1px rgba(60, 64, 67, 0.15);\n",
              "    fill: var(--button-hover-fill-color);\n",
              "  }\n",
              "\n",
              "  .colab-df-quickchart-complete:disabled,\n",
              "  .colab-df-quickchart-complete:disabled:hover {\n",
              "    background-color: var(--disabled-bg-color);\n",
              "    fill: var(--disabled-fill-color);\n",
              "    box-shadow: none;\n",
              "  }\n",
              "\n",
              "  .colab-df-spinner {\n",
              "    border: 2px solid var(--fill-color);\n",
              "    border-color: transparent;\n",
              "    border-bottom-color: var(--fill-color);\n",
              "    animation:\n",
              "      spin 1s steps(1) infinite;\n",
              "  }\n",
              "\n",
              "  @keyframes spin {\n",
              "    0% {\n",
              "      border-color: transparent;\n",
              "      border-bottom-color: var(--fill-color);\n",
              "      border-left-color: var(--fill-color);\n",
              "    }\n",
              "    20% {\n",
              "      border-color: transparent;\n",
              "      border-left-color: var(--fill-color);\n",
              "      border-top-color: var(--fill-color);\n",
              "    }\n",
              "    30% {\n",
              "      border-color: transparent;\n",
              "      border-left-color: var(--fill-color);\n",
              "      border-top-color: var(--fill-color);\n",
              "      border-right-color: var(--fill-color);\n",
              "    }\n",
              "    40% {\n",
              "      border-color: transparent;\n",
              "      border-right-color: var(--fill-color);\n",
              "      border-top-color: var(--fill-color);\n",
              "    }\n",
              "    60% {\n",
              "      border-color: transparent;\n",
              "      border-right-color: var(--fill-color);\n",
              "    }\n",
              "    80% {\n",
              "      border-color: transparent;\n",
              "      border-right-color: var(--fill-color);\n",
              "      border-bottom-color: var(--fill-color);\n",
              "    }\n",
              "    90% {\n",
              "      border-color: transparent;\n",
              "      border-bottom-color: var(--fill-color);\n",
              "    }\n",
              "  }\n",
              "</style>\n",
              "\n",
              "  <script>\n",
              "    async function quickchart(key) {\n",
              "      const quickchartButtonEl =\n",
              "        document.querySelector('#' + key + ' button');\n",
              "      quickchartButtonEl.disabled = true;  // To prevent multiple clicks.\n",
              "      quickchartButtonEl.classList.add('colab-df-spinner');\n",
              "      try {\n",
              "        const charts = await google.colab.kernel.invokeFunction(\n",
              "            'suggestCharts', [key], {});\n",
              "      } catch (error) {\n",
              "        console.error('Error during call to suggestCharts:', error);\n",
              "      }\n",
              "      quickchartButtonEl.classList.remove('colab-df-spinner');\n",
              "      quickchartButtonEl.classList.add('colab-df-quickchart-complete');\n",
              "    }\n",
              "    (() => {\n",
              "      let quickchartButtonEl =\n",
              "        document.querySelector('#df-74d920ce-1c38-44cc-a05d-bc751aa50374 button');\n",
              "      quickchartButtonEl.style.display =\n",
              "        google.colab.kernel.accessAllowed ? 'block' : 'none';\n",
              "    })();\n",
              "  </script>\n",
              "</div>\n",
              "\n",
              "    </div>\n",
              "  </div>\n"
            ],
            "application/vnd.google.colaboratory.intrinsic+json": {
              "type": "dataframe",
              "variable_name": "df",
              "summary": "{\n  \"name\": \"df\",\n  \"rows\": 30,\n  \"fields\": [\n    {\n      \"column\": \"YearsExperience\",\n      \"properties\": {\n        \"dtype\": \"number\",\n        \"std\": 2.8378881576627184,\n        \"min\": 1.1,\n        \"max\": 10.5,\n        \"num_unique_values\": 28,\n        \"samples\": [\n          3.9,\n          9.6,\n          3.7\n        ],\n        \"semantic_type\": \"\",\n        \"description\": \"\"\n      }\n    },\n    {\n      \"column\": \"Salary\",\n      \"properties\": {\n        \"dtype\": \"number\",\n        \"std\": 27414.4297845823,\n        \"min\": 37731.0,\n        \"max\": 122391.0,\n        \"num_unique_values\": 30,\n        \"samples\": [\n          112635.0,\n          67938.0,\n          113812.0\n        ],\n        \"semantic_type\": \"\",\n        \"description\": \"\"\n      }\n    }\n  ]\n}"
            }
          },
          "metadata": {},
          "execution_count": 7
        }
      ]
    },
    {
      "cell_type": "markdown",
      "source": [],
      "metadata": {
        "id": "HtqZN6I-zS7l"
      }
    },
    {
      "cell_type": "code",
      "source": [
        "df.info()"
      ],
      "metadata": {
        "colab": {
          "base_uri": "https://localhost:8080/"
        },
        "id": "HgLulJ7zzf0P",
        "outputId": "8e8c00c0-9463-4423-d7d2-f881c5d166e0"
      },
      "execution_count": null,
      "outputs": [
        {
          "output_type": "stream",
          "name": "stdout",
          "text": [
            "<class 'pandas.core.frame.DataFrame'>\n",
            "RangeIndex: 30 entries, 0 to 29\n",
            "Data columns (total 2 columns):\n",
            " #   Column           Non-Null Count  Dtype  \n",
            "---  ------           --------------  -----  \n",
            " 0   YearsExperience  30 non-null     float64\n",
            " 1   Salary           30 non-null     float64\n",
            "dtypes: float64(2)\n",
            "memory usage: 608.0 bytes\n"
          ]
        }
      ]
    },
    {
      "cell_type": "markdown",
      "source": [],
      "metadata": {
        "id": "7AJmILGFzRsa"
      }
    },
    {
      "cell_type": "code",
      "source": [
        "df.isnull().sum()"
      ],
      "metadata": {
        "colab": {
          "base_uri": "https://localhost:8080/",
          "height": 147
        },
        "id": "2Zq9Sj62zqy3",
        "outputId": "e5e138f2-308b-45c0-f00b-20ed26150a7e"
      },
      "execution_count": null,
      "outputs": [
        {
          "output_type": "execute_result",
          "data": {
            "text/plain": [
              "YearsExperience    0\n",
              "Salary             0\n",
              "dtype: int64"
            ],
            "text/html": [
              "<div>\n",
              "<style scoped>\n",
              "    .dataframe tbody tr th:only-of-type {\n",
              "        vertical-align: middle;\n",
              "    }\n",
              "\n",
              "    .dataframe tbody tr th {\n",
              "        vertical-align: top;\n",
              "    }\n",
              "\n",
              "    .dataframe thead th {\n",
              "        text-align: right;\n",
              "    }\n",
              "</style>\n",
              "<table border=\"1\" class=\"dataframe\">\n",
              "  <thead>\n",
              "    <tr style=\"text-align: right;\">\n",
              "      <th></th>\n",
              "      <th>0</th>\n",
              "    </tr>\n",
              "  </thead>\n",
              "  <tbody>\n",
              "    <tr>\n",
              "      <th>YearsExperience</th>\n",
              "      <td>0</td>\n",
              "    </tr>\n",
              "    <tr>\n",
              "      <th>Salary</th>\n",
              "      <td>0</td>\n",
              "    </tr>\n",
              "  </tbody>\n",
              "</table>\n",
              "</div><br><label><b>dtype:</b> int64</label>"
            ]
          },
          "metadata": {},
          "execution_count": 9
        }
      ]
    },
    {
      "cell_type": "markdown",
      "source": [
        "split the given data and train,test the data"
      ],
      "metadata": {
        "id": "TlbNGkeuzuqr"
      }
    },
    {
      "cell_type": "code",
      "source": [
        "X = df['YearsExperience']\n",
        "y = df['Salary']\n",
        "scaler_x = StandardScaler()\n",
        "scaler_y = StandardScaler()\n",
        "X = scaler_x.fit_transform(X.values.reshape(-1,1)).flatten()\n",
        "y = scaler_y.fit_transform(y.values.reshape(-1,1)).flatten()\n",
        "x_train, x_test, y_train, y_test = train_test_split(X, y, test_size=0.2, random_state=42)\n",
        "\n",
        "\n"
      ],
      "metadata": {
        "id": "fBuBLwwXzyIv"
      },
      "execution_count": null,
      "outputs": []
    },
    {
      "cell_type": "markdown",
      "source": [
        "plotting the given data"
      ],
      "metadata": {
        "id": "FgvkVXny0a6b"
      }
    },
    {
      "cell_type": "code",
      "source": [
        "plt.scatter(x_train, y_train)\n",
        "plt.xlabel('X')\n",
        "plt.xlabel('y')\n",
        "plt.title('Salary Data For Linear Regression')"
      ],
      "metadata": {
        "colab": {
          "base_uri": "https://localhost:8080/",
          "height": 489
        },
        "id": "jUzT7G9F0eb2",
        "outputId": "4c97bb70-1ed7-4da9-b9df-99c1e3c270bf"
      },
      "execution_count": null,
      "outputs": [
        {
          "output_type": "execute_result",
          "data": {
            "text/plain": [
              "Text(0.5, 1.0, 'Salary Data For Linear Regression')"
            ]
          },
          "metadata": {},
          "execution_count": 12
        },
        {
          "output_type": "display_data",
          "data": {
            "text/plain": [
              "<Figure size 640x480 with 1 Axes>"
            ],
            "image/png": "[encoded data removed]"
          },
          "metadata": {}
        }
      ]
    },
    {
      "cell_type": "code",
      "source": [
        "def error_function(y_true,  y_pred):\n",
        "    #Calculating the loss or cost for MSE\n",
        "    cost = np.sum((y_true - y_pred)**2) / len(y_true)\n",
        "    # cost = np.mean((y_true - y_pred) ** 2)\n",
        "    return cost"
      ],
      "metadata": {
        "id": "UvnZXYGN3j_G"
      },
      "execution_count": null,
      "outputs": []
    },
    {
      "cell_type": "markdown",
      "source": [
        "Implied gradient function"
      ],
      "metadata": {
        "id": "3A4WE9H11YI_"
      }
    },
    {
      "cell_type": "code",
      "source": [
        "def batch_gradient_descent(x, y, batch_size, iterations, learning_rate, stopping_threshold=1e-6):\n",
        "    current_weight = random.uniform(1, 7)\n",
        "    current_bias = random.uniform(-2, 4)\n",
        "    n = len(x)\n",
        "\n",
        "    costs = []\n",
        "    weights = []\n",
        "    biases = []\n",
        "    previous_cost = None\n",
        "\n",
        "    for iteration in range(iterations):\n",
        "\n",
        "        #Shuffle Data For Each Iteration\n",
        "        indices = np.arange(n)\n",
        "        np.random.shuffle(indices)\n",
        "\n",
        "        x_shuffled = x[indices]\n",
        "        y_shuffled = y[indices]\n",
        "\n",
        "        for i in range(0, batch_size):\n",
        "            x_batch = x_shuffled[i:i+batch_size]\n",
        "            y_batch = y_shuffled[i:i+batch_size]\n",
        "\n",
        "            #Making Predictions\n",
        "            y_predicted = (current_weight * x_batch) + current_bias\n",
        "            current_cost = error_function(y_batch, y_predicted)\n",
        "\n",
        "            if previous_cost and abs(previous_cost - current_cost) <= stopping_threshold:\n",
        "                return weights, biases, costs\n",
        "            previous_cost = current_cost\n",
        "            costs.append(current_cost)\n",
        "            weights.append(current_weight)\n",
        "            biases.append(current_bias)\n",
        "\n",
        "            #MSE\n",
        "            weight_derivate = -(2/len(x_batch)) * np.sum(x_batch * (y_batch - y_predicted))\n",
        "            bias_derivate = -(2/len(x_batch)) * np.sum(y_batch - y_predicted)\n",
        "\n",
        "            #Updating weights and bias\n",
        "            current_weight = current_weight - (learning_rate * weight_derivate)\n",
        "            current_bias = current_bias - (learning_rate * bias_derivate)\n",
        "    return weights, biases, costs\n"
      ],
      "metadata": {
        "id": "0XXl7ope03N-"
      },
      "execution_count": null,
      "outputs": []
    },
    {
      "cell_type": "code",
      "source": [
        "iterations = 250\n",
        "learning_rate = 0.05\n",
        "batch_size = 16"
      ],
      "metadata": {
        "id": "XfBxykRc36o8"
      },
      "execution_count": null,
      "outputs": []
    },
    {
      "cell_type": "code",
      "source": [
        "!apt-get install python3-tk\n",
        "\n",
        "import matplotlib\n",
        "matplotlib.use('TkAgg')  # Set the backend before importing pyplot\n",
        "import matplotlib.pyplot as plt"
      ],
      "metadata": {
        "colab": {
          "base_uri": "https://localhost:8080/"
        },
        "id": "U3ZVM4ud4XB-",
        "outputId": "b22408b2-7c57-469a-a715-704f4795f699"
      },
      "execution_count": null,
      "outputs": [
        {
          "output_type": "stream",
          "name": "stdout",
          "text": [
            "Reading package lists... Done\n",
            "Building dependency tree... Done\n",
            "Reading state information... Done\n",
            "python3-tk is already the newest version (3.10.8-1~22.04).\n",
            "0 upgraded, 0 newly installed, 0 to remove and 49 not upgraded.\n"
          ]
        }
      ]
    },
    {
      "cell_type": "markdown",
      "source": [],
      "metadata": {
        "id": "HDii97j92u5x"
      }
    },
    {
      "cell_type": "code",
      "source": [
        "weights, biases, costs = batch_gradient_descent(x_train, y_train, batch_size, iterations, learning_rate)\n",
        "\n",
        "fig, (ax1, ax2, ax3, ax4) = plt.subplots(4, 1, figsize=(12, 18))\n",
        "\n",
        "#Plotting the data points and fit line\n",
        "\n",
        "scatter = ax1.scatter(x_train, y_train, marker='o', color='red')\n",
        "line, = ax1.plot(x_train, x_train * weights[0] + biases[0], color='blue', linestyle='dashed')\n",
        "ax1.set_xlabel(\"X\")\n",
        "ax1.set_ylabel(\"Y\")\n",
        "ax1.set_title(\"Data points and Fit Line\")\n",
        "\n",
        "\n",
        "#Plotting the cost curve\n",
        "cost_line, = ax2.plot([], [], color='green')\n",
        "ax2.set_xlim(0, len(costs))\n",
        "ax2.set_ylim(0, max(costs))\n",
        "ax2.set_xlabel(\"Iteration\")\n",
        "ax2.set_ylabel(\"Cost\")\n",
        "ax2.set_title(\"Cost Curve\")\n",
        "\n",
        "#Plotting Costs vs. Weights\n",
        "weight_cost_line, = ax3.plot([], [], color='purple', linestyle='-')\n",
        "ax3.set_xlim(min(weights), max(weights))\n",
        "ax3.set_ylim(0, max(costs))\n",
        "ax3.set_xlabel(\"Weights\")\n",
        "ax3.set_ylabel(\"Cost\")\n",
        "ax3.set_title(\"Costs vs. Weights\")\n",
        "\n",
        "#Plotting Costs vs. Biases\n",
        "bias_cost_line, = ax4.plot([], [], color='orange', linestyle='-')\n",
        "ax4.set_xlim(min(biases), max(biases))\n",
        "ax4.set_ylim(0, max(costs))\n",
        "ax4.set_xlabel(\"Biases\")\n",
        "ax4.set_ylabel(\"Cost\")\n",
        "ax4.set_title(\"Costs vs. Biases\")\n",
        "\n",
        "def update(frame):\n",
        "    #Update line fitting\n",
        "    current_weight = weights[frame]\n",
        "    current_bias = biases[frame]\n",
        "    y_pred = current_weight * x_train + current_bias\n",
        "    line.set_ydata(y_pred)\n",
        "    # ax1.set_ylim(min(y_pred) - 5, max(y_pred) + 5)\n",
        "\n",
        "    #Update cost curve\n",
        "    cost_line.set_data(range(frame + 1), costs[:frame + 1])\n",
        "\n",
        "    #Update Costs vs. Weights\n",
        "    weight_cost_line.set_data(weights[:frame + 1], costs[:frame + 1])\n",
        "\n",
        "    #Update Costs vs. Biases\n",
        "    bias_cost_line.set_data(biases[:frame + 1], costs[:frame + 1])\n",
        "    return line, cost_line, weight_cost_line, bias_cost_line\n",
        "\n",
        "#Create animation\n",
        "ani = FuncAnimation(fig, update, frames=len(weights), blit=False, interval=200)\n",
        "\n",
        "plt.tight_layout()\n",
        "plt.show()\n"
      ],
      "metadata": {
        "id": "6_1jC_nU4s_M"
      },
      "execution_count": null,
      "outputs": []
    },
    {
      "cell_type": "code",
      "source": [
        "%matplotlib inline"
      ],
      "metadata": {
        "id": "d3lrapL846rI"
      },
      "execution_count": null,
      "outputs": []
    },
    {
      "cell_type": "markdown",
      "source": [
        "Get the best weight and biases"
      ],
      "metadata": {
        "id": "f9sf9g2A5O4L"
      }
    },
    {
      "cell_type": "code",
      "source": [
        "best_index = np.argmin(costs)\n",
        "print(\"The best weight Steps\", best_index)\n",
        "\n",
        "best_model = {}\n",
        "best_model['coef_'] = weights[best_index]\n",
        "best_model['intercept_'] = biases[best_index]\n",
        "\n",
        "print(best_model)\n",
        "\n",
        "print(f\"Best Weight: {best_model['coef_']} Best Bias: {best_model['intercept_']}\")\n"
      ],
      "metadata": {
        "colab": {
          "base_uri": "https://localhost:8080/"
        },
        "id": "Sg-uIuae5kgS",
        "outputId": "7c61da59-b6d2-47d3-ef68-40a7c6cd08d9"
      },
      "execution_count": null,
      "outputs": [
        {
          "output_type": "stream",
          "name": "stdout",
          "text": [
            "The best weight Steps 527\n",
            "{'coef_': 0.9769848631053807, 'intercept_': -0.04189386367585375}\n",
            "Best Weight: 0.9769848631053807 Best Bias: -0.04189386367585375\n"
          ]
        }
      ]
    },
    {
      "cell_type": "markdown",
      "source": [
        "Get the current weights and biases"
      ],
      "metadata": {
        "id": "85XBe7x_50Oa"
      }
    },
    {
      "cell_type": "code",
      "source": [
        "print(\"Latest Index\", len(costs) - 1)\n",
        "\n",
        "latest_model = {}\n",
        "\n",
        "latest_model['coef_'] = weights[-1]\n",
        "latest_model['intercept_'] = biases[-1]\n",
        "\n",
        "print(latest_model)\n",
        "\n",
        "print(f'Latest Weight: {latest_model[\"coef_\"]} Latest Bias {latest_model[\"intercept_\"]}')\n"
      ],
      "metadata": {
        "colab": {
          "base_uri": "https://localhost:8080/"
        },
        "id": "XZSV1_mY56j_",
        "outputId": "c8ae34a4-fac8-4358-8676-3126ba9a5949"
      },
      "execution_count": null,
      "outputs": [
        {
          "output_type": "stream",
          "name": "stdout",
          "text": [
            "Latest Index 582\n",
            "{'coef_': 0.9505728627443977, 'intercept_': -0.03505164328520861}\n",
            "Latest Weight: 0.9505728627443977 Latest Bias -0.03505164328520861\n"
          ]
        }
      ]
    },
    {
      "cell_type": "markdown",
      "source": [
        "predicition vlaue"
      ],
      "metadata": {
        "id": "2hV2KFM25N1R"
      }
    },
    {
      "cell_type": "code",
      "source": [
        "def LinearRegressionPredict(x_true):\n",
        "    y_prediction = []\n",
        "    for x_item in x_true:\n",
        "        y = biases[best_index] + weights[best_index] * x_item\n",
        "        y_prediction.append(y)\n",
        "    return y_prediction\n",
        "y_pred = LinearRegressionPredict(x_test)\n",
        "print(y_pred)\n"
      ],
      "metadata": {
        "colab": {
          "base_uri": "https://localhost:8080/"
        },
        "id": "GkDLpvG_6Kca",
        "outputId": "f81321ab-5ed4-43d6-ccf8-df0056eb5a1c"
      },
      "execution_count": null,
      "outputs": [
        {
          "output_type": "stream",
          "name": "stdout",
          "text": [
            "[1.4590826667597723, -0.1866225493477181, 0.9688726023873281, -0.04656253095559142, -0.7818776275142573, -0.6068026045240987]\n"
          ]
        }
      ]
    },
    {
      "cell_type": "markdown",
      "source": [
        "Accuracy and plot value"
      ],
      "metadata": {
        "id": "9NjSX2_B6UTB"
      }
    },
    {
      "cell_type": "code",
      "source": [
        "from sklearn.metrics import r2_score\n",
        "\n",
        "r2 = r2_score(y_test, y_pred)\n",
        "\n",
        "print(f\"R2 Score : {r2}\")"
      ],
      "metadata": {
        "colab": {
          "base_uri": "https://localhost:8080/"
        },
        "id": "KPzdD9oz6Ya-",
        "outputId": "8ca41be7-da9f-428f-e801-c5a6c88fae75"
      },
      "execution_count": null,
      "outputs": [
        {
          "output_type": "stream",
          "name": "stdout",
          "text": [
            "R2 Score : 0.8957844351670332\n"
          ]
        }
      ]
    },
    {
      "cell_type": "code",
      "source": [
        "plt.title(\"Actual VS Predicted\")\n",
        "plt.xlabel(\"YearsExperience\")\n",
        "plt.ylabel(\"Salary\")\n",
        "plt.scatter(x_test, y_test, c='b')\n",
        "plt.scatter(x_test, y_pred, c='r')\n",
        "plt.plot(x_train, weights[best_index] * x_train + biases[best_index], c='g')\n",
        "plt.show()\n"
      ],
      "metadata": {
        "colab": {
          "base_uri": "https://localhost:8080/",
          "height": 963
        },
        "id": "N5bMlZr36tDD",
        "outputId": "f94b7ad1-c3e1-49e7-da52-2c971a32593f"
      },
      "execution_count": null,
      "outputs": [
        {
          "output_type": "display_data",
          "data": {
            "text/plain": [
              "<Figure size 1200x1800 with 4 Axes>"
            ],
            "image/png": "[encoded data removed]"
          },
          "metadata": {}
        }
      ]
    }
  ]
}