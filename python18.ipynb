{
  "nbformat": 4,
  "nbformat_minor": 0,
  "metadata": {
    "colab": {
      "provenance": [],
      "authorship_tag": "ABX9TyMniIKdQS2KStiij9r44uiY",
      "include_colab_link": true
    },
    "kernelspec": {
      "name": "python3",
      "display_name": "Python 3"
    },
    "language_info": {
      "name": "python"
    }
  },
  "cells": [
    {
      "cell_type": "markdown",
      "metadata": {
        "id": "view-in-github",
        "colab_type": "text"
      },
      "source": [
        "<a href=\"https://colab.research.google.com/github/anjali-mi/practices_file/blob/main/python18.ipynb\" target=\"_parent\"><img src=\"https://colab.research.google.com/assets/colab-badge.svg\" alt=\"Open In Colab\"/></a>"
      ]
    },
    {
      "cell_type": "code",
      "source": [
        "import nltk\n",
        "from nltk.stem import PorterStemmer # Corrected the typo here from poterstemmer to PorterStemmer\n",
        "fishwords = ['fishes','fishes','fished','schooler','school','running','studies']\n",
        "prt = PorterStemmer() # Corrected the typo here as well from poterstemmer to PorterStemmer\n",
        "[prt.stem(ts)for ts in fishwords]"
      ],
      "metadata": {
        "colab": {
          "base_uri": "https://localhost:8080/"
        },
        "id": "XtXc_axa5KUQ",
        "outputId": "ea57c851-3f9d-46e0-a5d4-1cb17e01c3a6"
      },
      "execution_count": null,
      "outputs": [
        {
          "output_type": "execute_result",
          "data": {
            "text/plain": [
              "['fish', 'fish', 'fish', 'schooler', 'school', 'run', 'studi']"
            ]
          },
          "metadata": {},
          "execution_count": 4
        }
      ]
    },
    {
      "cell_type": "code",
      "source": [
        "import nltk\n",
        "from nltk.stem import PorterStemmer\n",
        "fishwords = ['fishes','fishes','fished','schooler','school','running','studies']\n",
        "prt = PorterStemmer()\n",
        "[prt.stem(ts)for ts in fishwords]\n",
        "\n"
      ],
      "metadata": {
        "colab": {
          "base_uri": "https://localhost:8080/"
        },
        "id": "KKBIBKE26d97",
        "outputId": "70ec2a8d-e19f-4400-94b6-0b18a86d1128"
      },
      "execution_count": null,
      "outputs": [
        {
          "output_type": "execute_result",
          "data": {
            "text/plain": [
              "['fish', 'fish', 'fish', 'schooler', 'school', 'run', 'studi']"
            ]
          },
          "metadata": {},
          "execution_count": 8
        }
      ]
    },
    {
      "cell_type": "code",
      "source": [],
      "metadata": {
        "id": "SxgRVjGJ7nhz"
      },
      "execution_count": null,
      "outputs": []
    }
  ]
}